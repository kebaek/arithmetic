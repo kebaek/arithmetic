{
 "cells": [
  {
   "cell_type": "code",
   "execution_count": 26,
   "metadata": {},
   "outputs": [],
   "source": [
    "import json \n",
    "\n",
    "def get_random_number(n=9):\n",
    "    import random\n",
    "    return random.randint(10 ** (n-1), 10 ** n - 1)\n",
    "\n",
    "def get_random_number_list(n=9, length=10000):\n",
    "    return [get_random_number(n) for i in range(length)]\n",
    "\n",
    "def get_intermediate_steps(x, y):\n",
    "  string = f\"{x[::-1]} * {y[::-1]} = \"\n",
    "  for i in range(len(x)):\n",
    "    partial_x = int(x[::-1][i]) * (10 ** i)\n",
    "    if i < len(x) - 1:\n",
    "      string += str(partial_x * int(y))[::-1] + \" + \"\n",
    "    else: \n",
    "      string += str(partial_x * int(y))[::-1] + \" = \"\n",
    "  return string + str(int(x) * int(y))[::-1]"
   ]
  },
  {
   "cell_type": "code",
   "execution_count": 27,
   "metadata": {},
   "outputs": [
    {
     "data": {
      "text/plain": [
       "'31 * 10 = 3 + 01 = 31'"
      ]
     },
     "execution_count": 27,
     "metadata": {},
     "output_type": "execute_result"
    }
   ],
   "source": [
    "get_intermediate_steps('13', '01')"
   ]
  },
  {
   "cell_type": "code",
   "execution_count": 28,
   "metadata": {},
   "outputs": [],
   "source": [
    "x_1 = get_random_number_list()\n",
    "x_2 = get_random_number_list()\n",
    "\n",
    "x_1 = [str(x) for x in x_1]\n",
    "x_2 = [str(x) for x in x_2]\n",
    "\n",
    "dataset = []\n",
    "for x,y in zip(x_1, x_2):\n",
    "  dataset.append(get_intermediate_steps(x, y))\n",
    "\n",
    "with open('dataset.json', 'w') as f:\n",
    "  f.write(json.dumps(dataset))"
   ]
  },
  {
   "cell_type": "code",
   "execution_count": null,
   "metadata": {},
   "outputs": [],
   "source": []
  }
 ],
 "metadata": {
  "kernelspec": {
   "display_name": "sphere",
   "language": "python",
   "name": "python3"
  },
  "language_info": {
   "codemirror_mode": {
    "name": "ipython",
    "version": 3
   },
   "file_extension": ".py",
   "mimetype": "text/x-python",
   "name": "python",
   "nbconvert_exporter": "python",
   "pygments_lexer": "ipython3",
   "version": "3.12.0"
  }
 },
 "nbformat": 4,
 "nbformat_minor": 2
}
